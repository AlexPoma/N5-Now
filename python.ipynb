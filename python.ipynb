{
 "cells": [
  {
   "cell_type": "code",
   "execution_count": 1,
   "metadata": {},
   "outputs": [],
   "source": [
    "from tabulate import tabulate\n",
    "import opendatasets as od\n",
    "import pandas as pd\n",
    "import os\n",
    "import re"
   ]
  },
  {
   "cell_type": "code",
   "execution_count": 2,
   "metadata": {},
   "outputs": [
    {
     "name": "stdout",
     "output_type": "stream",
     "text": [
      "Please provide your Kaggle credentials to download this dataset. Learn more: http://bit.ly/kaggle-creds\n",
      "Your Kaggle username:Your Kaggle Key:Downloading corona-virus-report.zip to ./corona-virus-report\n"
     ]
    },
    {
     "name": "stderr",
     "output_type": "stream",
     "text": [
      "100%|██████████| 19.0M/19.0M [00:02<00:00, 9.20MB/s]\n"
     ]
    },
    {
     "name": "stdout",
     "output_type": "stream",
     "text": [
      "\n"
     ]
    }
   ],
   "source": [
    "# Download the Kaggle data required\n",
    "url = \"https://www.kaggle.com/datasets/imdevskp/corona-virus-report/download?datasetVersionNumber=166\"\n",
    "od.download(url, force=True)"
   ]
  },
  {
   "cell_type": "code",
   "execution_count": 3,
   "metadata": {},
   "outputs": [
    {
     "name": "stdout",
     "output_type": "stream",
     "text": [
      "['country_wise_latest.csv', 'covid_19_clean_complete.csv', 'day_wise.csv', 'full_grouped.csv', 'usa_county_wise.csv', 'worldometer_data.csv']\n"
     ]
    }
   ],
   "source": [
    "# Put in a list downloaded files\n",
    "folder = \"corona-virus-report\"\n",
    "covid_file_list = os.listdir(f\"{folder}/\")\n",
    "print(covid_file_list)"
   ]
  },
  {
   "cell_type": "code",
   "execution_count": 4,
   "metadata": {},
   "outputs": [
    {
     "name": "stdout",
     "output_type": "stream",
     "text": [
      "country_wise_latest.csv\n",
      "Country/Region             object\n",
      "Confirmed                   int64\n",
      "Deaths                      int64\n",
      "Recovered                   int64\n",
      "Active                      int64\n",
      "New cases                   int64\n",
      "New deaths                  int64\n",
      "New recovered               int64\n",
      "Deaths / 100 Cases        float64\n",
      "Recovered / 100 Cases     float64\n",
      "Deaths / 100 Recovered    float64\n",
      "Confirmed last week         int64\n",
      "1 week change               int64\n",
      "1 week % increase         float64\n",
      "WHO Region                 object\n",
      "dtype: object\n",
      "+----+------------------+-------------+----------+-------------+----------+-------------+--------------+-----------------+----------------------+-------------------------+--------------------------+-----------------------+-----------------+---------------------+-----------------------+\n",
      "|    | Country/Region   |   Confirmed |   Deaths |   Recovered |   Active |   New cases |   New deaths |   New recovered |   Deaths / 100 Cases |   Recovered / 100 Cases |   Deaths / 100 Recovered |   Confirmed last week |   1 week change |   1 week % increase | WHO Region            |\n",
      "|----+------------------+-------------+----------+-------------+----------+-------------+--------------+-----------------+----------------------+-------------------------+--------------------------+-----------------------+-----------------+---------------------+-----------------------|\n",
      "|  0 | Afghanistan      |       36263 |     1269 |       25198 |     9796 |         106 |           10 |              18 |                 3.5  |                   69.49 |                     5.04 |                 35526 |             737 |                2.07 | Eastern Mediterranean |\n",
      "|  1 | Albania          |        4880 |      144 |        2745 |     1991 |         117 |            6 |              63 |                 2.95 |                   56.25 |                     5.25 |                  4171 |             709 |               17    | Europe                |\n",
      "|  2 | Algeria          |       27973 |     1163 |       18837 |     7973 |         616 |            8 |             749 |                 4.16 |                   67.34 |                     6.17 |                 23691 |            4282 |               18.07 | Africa                |\n",
      "|  3 | Andorra          |         907 |       52 |         803 |       52 |          10 |            0 |               0 |                 5.73 |                   88.53 |                     6.48 |                   884 |              23 |                2.6  | Europe                |\n",
      "|  4 | Angola           |         950 |       41 |         242 |      667 |          18 |            1 |               0 |                 4.32 |                   25.47 |                    16.94 |                   749 |             201 |               26.84 | Africa                |\n",
      "+----+------------------+-------------+----------+-------------+----------+-------------+--------------+-----------------+----------------------+-------------------------+--------------------------+-----------------------+-----------------+---------------------+-----------------------+\n",
      "covid_19_clean_complete.csv\n",
      "2020-01-22\n",
      "Province/State            object\n",
      "Country/Region            object\n",
      "Lat                      float64\n",
      "Long                     float64\n",
      "Date              datetime64[ns]\n",
      "Confirmed                  int64\n",
      "Deaths                     int64\n",
      "Recovered                  int64\n",
      "Active                     int64\n",
      "WHO Region                object\n",
      "dtype: object\n",
      "+----+------------------+------------------+----------+---------+---------------------+-------------+----------+-------------+----------+-----------------------+\n",
      "|    |   Province/State | Country/Region   |      Lat |    Long | Date                |   Confirmed |   Deaths |   Recovered |   Active | WHO Region            |\n",
      "|----+------------------+------------------+----------+---------+---------------------+-------------+----------+-------------+----------+-----------------------|\n",
      "|  0 |              nan | Afghanistan      |  33.9391 | 67.71   | 2020-01-22 00:00:00 |           0 |        0 |           0 |        0 | Eastern Mediterranean |\n",
      "|  1 |              nan | Albania          |  41.1533 | 20.1683 | 2020-01-22 00:00:00 |           0 |        0 |           0 |        0 | Europe                |\n",
      "|  2 |              nan | Algeria          |  28.0339 |  1.6596 | 2020-01-22 00:00:00 |           0 |        0 |           0 |        0 | Africa                |\n",
      "|  3 |              nan | Andorra          |  42.5063 |  1.5218 | 2020-01-22 00:00:00 |           0 |        0 |           0 |        0 | Europe                |\n",
      "|  4 |              nan | Angola           | -11.2027 | 17.8739 | 2020-01-22 00:00:00 |           0 |        0 |           0 |        0 | Africa                |\n",
      "+----+------------------+------------------+----------+---------+---------------------+-------------+----------+-------------+----------+-----------------------+\n",
      "day_wise.csv\n",
      "2020-01-22\n",
      "Date                      datetime64[ns]\n",
      "Confirmed                          int64\n",
      "Deaths                             int64\n",
      "Recovered                          int64\n",
      "Active                             int64\n",
      "New cases                          int64\n",
      "New deaths                         int64\n",
      "New recovered                      int64\n",
      "Deaths / 100 Cases               float64\n",
      "Recovered / 100 Cases            float64\n",
      "Deaths / 100 Recovered           float64\n",
      "No. of countries                   int64\n",
      "dtype: object\n",
      "+----+---------------------+-------------+----------+-------------+----------+-------------+--------------+-----------------+----------------------+-------------------------+--------------------------+--------------------+\n",
      "|    | Date                |   Confirmed |   Deaths |   Recovered |   Active |   New cases |   New deaths |   New recovered |   Deaths / 100 Cases |   Recovered / 100 Cases |   Deaths / 100 Recovered |   No. of countries |\n",
      "|----+---------------------+-------------+----------+-------------+----------+-------------+--------------+-----------------+----------------------+-------------------------+--------------------------+--------------------|\n",
      "|  0 | 2020-01-22 00:00:00 |         555 |       17 |          28 |      510 |           0 |            0 |               0 |                 3.06 |                    5.05 |                    60.71 |                  6 |\n",
      "|  1 | 2020-01-23 00:00:00 |         654 |       18 |          30 |      606 |          99 |            1 |               2 |                 2.75 |                    4.59 |                    60    |                  8 |\n",
      "|  2 | 2020-01-24 00:00:00 |         941 |       26 |          36 |      879 |         287 |            8 |               6 |                 2.76 |                    3.83 |                    72.22 |                  9 |\n",
      "|  3 | 2020-01-25 00:00:00 |        1434 |       42 |          39 |     1353 |         493 |           16 |               3 |                 2.93 |                    2.72 |                   107.69 |                 11 |\n",
      "|  4 | 2020-01-26 00:00:00 |        2118 |       56 |          52 |     2010 |         684 |           14 |              13 |                 2.64 |                    2.46 |                   107.69 |                 13 |\n",
      "+----+---------------------+-------------+----------+-------------+----------+-------------+--------------+-----------------+----------------------+-------------------------+--------------------------+--------------------+\n",
      "full_grouped.csv\n",
      "2020-01-22\n",
      "Date              datetime64[ns]\n",
      "Country/Region            object\n",
      "Confirmed                  int64\n",
      "Deaths                     int64\n",
      "Recovered                  int64\n",
      "Active                     int64\n",
      "New cases                  int64\n",
      "New deaths                 int64\n",
      "New recovered              int64\n",
      "WHO Region                object\n",
      "dtype: object\n",
      "+----+---------------------+------------------+-------------+----------+-------------+----------+-------------+--------------+-----------------+-----------------------+\n",
      "|    | Date                | Country/Region   |   Confirmed |   Deaths |   Recovered |   Active |   New cases |   New deaths |   New recovered | WHO Region            |\n",
      "|----+---------------------+------------------+-------------+----------+-------------+----------+-------------+--------------+-----------------+-----------------------|\n",
      "|  0 | 2020-01-22 00:00:00 | Afghanistan      |           0 |        0 |           0 |        0 |           0 |            0 |               0 | Eastern Mediterranean |\n",
      "|  1 | 2020-01-22 00:00:00 | Albania          |           0 |        0 |           0 |        0 |           0 |            0 |               0 | Europe                |\n",
      "|  2 | 2020-01-22 00:00:00 | Algeria          |           0 |        0 |           0 |        0 |           0 |            0 |               0 | Africa                |\n",
      "|  3 | 2020-01-22 00:00:00 | Andorra          |           0 |        0 |           0 |        0 |           0 |            0 |               0 | Europe                |\n",
      "|  4 | 2020-01-22 00:00:00 | Angola           |           0 |        0 |           0 |        0 |           0 |            0 |               0 | Africa                |\n",
      "+----+---------------------+------------------+-------------+----------+-------------+----------+-------------+--------------+-----------------+-----------------------+\n",
      "usa_county_wise.csv\n",
      "1/22/20\n",
      "UID                        int64\n",
      "iso2                      object\n",
      "iso3                      object\n",
      "code3                      int64\n",
      "FIPS                     float64\n",
      "Admin2                    object\n",
      "Province_State            object\n",
      "Country_Region            object\n",
      "Lat                      float64\n",
      "Long_                    float64\n",
      "Combined_Key              object\n",
      "Date              datetime64[ns]\n",
      "Confirmed                  int64\n",
      "Deaths                     int64\n",
      "dtype: object\n",
      "+----+----------+--------+--------+---------+--------+----------+--------------------------+------------------+----------+-----------+------------------------------+---------------------+-------------+----------+\n",
      "|    |      UID | iso2   | iso3   |   code3 |   FIPS | Admin2   | Province_State           | Country_Region   |      Lat |     Long_ | Combined_Key                 | Date                |   Confirmed |   Deaths |\n",
      "|----+----------+--------+--------+---------+--------+----------+--------------------------+------------------+----------+-----------+------------------------------+---------------------+-------------+----------|\n",
      "|  0 |       16 | AS     | ASM    |      16 |     60 | nan      | American Samoa           | US               | -14.271  | -170.132  | American Samoa, US           | 2020-01-22 00:00:00 |           0 |        0 |\n",
      "|  1 |      316 | GU     | GUM    |     316 |     66 | nan      | Guam                     | US               |  13.4443 |  144.794  | Guam, US                     | 2020-01-22 00:00:00 |           0 |        0 |\n",
      "|  2 |      580 | MP     | MNP    |     580 |     69 | nan      | Northern Mariana Islands | US               |  15.0979 |  145.674  | Northern Mariana Islands, US | 2020-01-22 00:00:00 |           0 |        0 |\n",
      "|  3 | 63072001 | PR     | PRI    |     630 |  72001 | Adjuntas | Puerto Rico              | US               |  18.1801 |  -66.7544 | Adjuntas, Puerto Rico, US    | 2020-01-22 00:00:00 |           0 |        0 |\n",
      "|  4 | 63072003 | PR     | PRI    |     630 |  72003 | Aguada   | Puerto Rico              | US               |  18.3603 |  -67.1751 | Aguada, Puerto Rico, US      | 2020-01-22 00:00:00 |           0 |        0 |\n",
      "+----+----------+--------+--------+---------+--------+----------+--------------------------+------------------+----------+-----------+------------------------------+---------------------+-------------+----------+\n",
      "worldometer_data.csv\n",
      "Country/Region       object\n",
      "Continent            object\n",
      "Population          float64\n",
      "TotalCases            int64\n",
      "NewCases            float64\n",
      "TotalDeaths         float64\n",
      "NewDeaths           float64\n",
      "TotalRecovered      float64\n",
      "NewRecovered        float64\n",
      "ActiveCases         float64\n",
      "Serious,Critical    float64\n",
      "Tot Cases/1M pop    float64\n",
      "Deaths/1M pop       float64\n",
      "TotalTests          float64\n",
      "Tests/1M pop        float64\n",
      "WHO Region           object\n",
      "dtype: object\n",
      "+----+------------------+---------------+--------------+--------------+------------+---------------+-------------+------------------+----------------+------------------+--------------------+--------------------+-----------------+--------------+----------------+----------------+\n",
      "|    | Country/Region   | Continent     |   Population |   TotalCases |   NewCases |   TotalDeaths |   NewDeaths |   TotalRecovered |   NewRecovered |      ActiveCases |   Serious,Critical |   Tot Cases/1M pop |   Deaths/1M pop |   TotalTests |   Tests/1M pop | WHO Region     |\n",
      "|----+------------------+---------------+--------------+--------------+------------+---------------+-------------+------------------+----------------+------------------+--------------------+--------------------+-----------------+--------------+----------------+----------------|\n",
      "|  0 | USA              | North America |  3.31198e+08 |      5032179 |        nan |        162804 |         nan |      2.57667e+06 |            nan |      2.29271e+06 |              18296 |              15194 |             492 |  6.31396e+07 |         190640 | Americas       |\n",
      "|  1 | Brazil           | South America |  2.12711e+08 |      2917562 |        nan |         98644 |         nan |      2.04766e+06 |            nan | 771258           |               8318 |              13716 |             464 |  1.32062e+07 |          62085 | Americas       |\n",
      "|  2 | India            | Asia          |  1.38134e+09 |      2025409 |        nan |         41638 |         nan |      1.37738e+06 |            nan | 606387           |               8944 |               1466 |              30 |  2.21494e+07 |          16035 | South-EastAsia |\n",
      "|  3 | Russia           | Europe        |  1.45941e+08 |       871894 |        nan |         14606 |         nan | 676357           |            nan | 180931           |               2300 |               5974 |             100 |  2.97169e+07 |         203623 | Europe         |\n",
      "|  4 | South Africa     | Africa        |  5.93816e+07 |       538184 |        nan |          9604 |         nan | 387316           |            nan | 141264           |                539 |               9063 |             162 |  3.14981e+06 |          53044 | Africa         |\n",
      "+----+------------------+---------------+--------------+--------------+------------+---------------+-------------+------------------+----------------+------------------+--------------------+--------------------+-----------------+--------------+----------------+----------------+\n"
     ]
    }
   ],
   "source": [
    "parquet_folder = \"corona-virus-parquet-pandas\"\n",
    "# regex pattern for check dates\n",
    "reg_date = re.compile(\"^\\d{4}-\\d{2}-\\d{2}$\")\n",
    "reg_date2 = re.compile(\"^\\d{1,2}\\/\\d{1,2}\\/\\d{2}$\")\n",
    "# Iterate files downloaded list\n",
    "for file in covid_file_list:\n",
    "    print(file)\n",
    "    # Read file downloaded as DataFrame\n",
    "    df = pd.read_csv(f\"./{folder}/{file}\", sep=',')\n",
    "    # Check if Date column match with date regex, to format it\n",
    "    if 'Date' in list(df.columns):\n",
    "        print(df['Date'][0])\n",
    "        if reg_date.match(df['Date'][0]):\n",
    "            df['Date'] = pd.to_datetime(df['Date'], format=\"%Y-%m-%d\")\n",
    "        elif reg_date2.match(df['Date'][0]):\n",
    "            df['Date'] = pd.to_datetime(df['Date'], format=\"%m/%d/%y\")\n",
    "    # Replace empty strings with None\n",
    "    df = df.replace([''], [None])\n",
    "    print(df.dtypes)\n",
    "    print(tabulate(df.head(5), headers='keys', tablefmt='psql'))\n",
    "    parquet_path = f\"{parquet_folder}/{file.split('.')[0]}.parquet\"\n",
    "    # Saving as parquet\n",
    "    df.to_parquet(parquet_path)"
   ]
  }
 ],
 "metadata": {
  "kernelspec": {
   "display_name": "base",
   "language": "python",
   "name": "python3"
  },
  "language_info": {
   "codemirror_mode": {
    "name": "ipython",
    "version": 3
   },
   "file_extension": ".py",
   "mimetype": "text/x-python",
   "name": "python",
   "nbconvert_exporter": "python",
   "pygments_lexer": "ipython3",
   "version": "3.10.9"
  },
  "orig_nbformat": 4,
  "vscode": {
   "interpreter": {
    "hash": "d4d1e4263499bec80672ea0156c357c1ee493ec2b1c70f0acce89fc37c4a6abe"
   }
  }
 },
 "nbformat": 4,
 "nbformat_minor": 2
}
