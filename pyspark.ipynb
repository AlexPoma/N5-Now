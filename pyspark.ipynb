{
 "cells": [
  {
   "cell_type": "code",
   "execution_count": 1,
   "metadata": {},
   "outputs": [],
   "source": [
    "# Import needed libraries\n",
    "from pyspark.sql import SparkSession\n",
    "from datetime import datetime\n",
    "import opendatasets as od\n",
    "import shutil\n",
    "import os\n",
    "import re"
   ]
  },
  {
   "cell_type": "code",
   "execution_count": 2,
   "metadata": {},
   "outputs": [],
   "source": [
    "# Starting SparkSession\n",
    "spark = SparkSession.builder.appName(\"FormatCovidData\").getOrCreate()"
   ]
  },
  {
   "cell_type": "code",
   "execution_count": 3,
   "metadata": {},
   "outputs": [
    {
     "name": "stdout",
     "output_type": "stream",
     "text": [
      "Please provide your Kaggle credentials to download this dataset. Learn more: http://bit.ly/kaggle-creds\n",
      "Your Kaggle username:Your Kaggle Key:Downloading corona-virus-report.zip to ./corona-virus-report\n"
     ]
    },
    {
     "name": "stderr",
     "output_type": "stream",
     "text": [
      "100%|██████████| 19.0M/19.0M [00:02<00:00, 8.09MB/s]\n"
     ]
    },
    {
     "name": "stdout",
     "output_type": "stream",
     "text": [
      "\n"
     ]
    }
   ],
   "source": [
    "# Download the Kaggle data required\n",
    "url = \"https://www.kaggle.com/datasets/imdevskp/corona-virus-report/download?datasetVersionNumber=166\"\n",
    "od.download(url, force=True)"
   ]
  },
  {
   "cell_type": "code",
   "execution_count": 4,
   "metadata": {},
   "outputs": [
    {
     "name": "stdout",
     "output_type": "stream",
     "text": [
      "['country_wise_latest.csv', 'covid_19_clean_complete.csv', 'day_wise.csv', 'full_grouped.csv', 'usa_county_wise.csv', 'worldometer_data.csv']\n"
     ]
    }
   ],
   "source": [
    "# Put in a list downloaded files\n",
    "folder = \"corona-virus-report\"\n",
    "covid_file_list = os.listdir(f\"{folder}/\")\n",
    "print(covid_file_list)"
   ]
  },
  {
   "cell_type": "code",
   "execution_count": 5,
   "metadata": {},
   "outputs": [],
   "source": [
    "def data_type(x):\n",
    "    \"\"\"\n",
    "    Convert data type automatically\n",
    "    \n",
    "    Args:\n",
    "        x: Value to set data type\n",
    "    Return:\n",
    "        Same value, but with the correct data type\n",
    "    \"\"\"\n",
    "    # regex pattern for check dates\n",
    "    reg_date = re.compile(\"^\\d{4}-\\d{2}-\\d{2}$\")\n",
    "    reg_date2 = re.compile(\"^\\d{1,2}\\/\\d{1,2}\\/\\d{2}$\")\n",
    "    if x == '':\n",
    "        return None\n",
    "    else:\n",
    "        if x.isdigit():\n",
    "            return int(x)\n",
    "        # Check if string match with date regex\n",
    "        elif reg_date.match(x):\n",
    "            return datetime.strptime(x, \"%Y-%m-%d\")\n",
    "        elif reg_date2.match(x):\n",
    "            return datetime.strptime(x, \"%m/%d/%y\")\n",
    "        try:\n",
    "            return float(x)\n",
    "        except ValueError:\n",
    "            return str(x).replace('\"', '')"
   ]
  },
  {
   "cell_type": "code",
   "execution_count": 6,
   "metadata": {},
   "outputs": [],
   "source": [
    "def parse_row(row, regex):\n",
    "    \"\"\"\n",
    "    Parse rows, splitting by comma\n",
    "    \n",
    "    Args:\n",
    "        row: String to be splitted\n",
    "        regex: regex pattern to split, for ignore commas, in double quotes\n",
    "    Return:\n",
    "        Same row, but splited and formated\n",
    "    \"\"\"\n",
    "    columns = re.split(regex, row)\n",
    "    return list(map(lambda x:data_type(x), columns))"
   ]
  },
  {
   "cell_type": "code",
   "execution_count": 7,
   "metadata": {},
   "outputs": [
    {
     "name": "stdout",
     "output_type": "stream",
     "text": [
      "country_wise_latest.csv\n",
      "[('Country/Region', 'string'), ('Confirmed', 'bigint'), ('Deaths', 'bigint'), ('Recovered', 'bigint'), ('Active', 'bigint'), ('New cases', 'bigint'), ('New deaths', 'bigint'), ('New recovered', 'bigint'), ('Deaths / 100 Cases', 'double'), ('Recovered / 100 Cases', 'double'), ('Deaths / 100 Recovered', 'double'), ('Confirmed last week', 'bigint'), ('1 week change', 'bigint'), ('1 week % increase', 'double'), ('WHO Region', 'string')]\n",
      "+--------------+---------+------+---------+------+---------+----------+-------------+------------------+---------------------+----------------------+-------------------+-------------+-----------------+--------------------+\n",
      "|Country/Region|Confirmed|Deaths|Recovered|Active|New cases|New deaths|New recovered|Deaths / 100 Cases|Recovered / 100 Cases|Deaths / 100 Recovered|Confirmed last week|1 week change|1 week % increase|          WHO Region|\n",
      "+--------------+---------+------+---------+------+---------+----------+-------------+------------------+---------------------+----------------------+-------------------+-------------+-----------------+--------------------+\n",
      "|   Afghanistan|    36263|  1269|    25198|  9796|      106|        10|           18|               3.5|                69.49|                  5.04|              35526|          737|             2.07|Eastern Mediterra...|\n",
      "|       Albania|     4880|   144|     2745|  1991|      117|         6|           63|              2.95|                56.25|                  5.25|               4171|          709|             17.0|              Europe|\n",
      "|       Algeria|    27973|  1163|    18837|  7973|      616|         8|          749|              4.16|                67.34|                  6.17|              23691|         4282|            18.07|              Africa|\n",
      "|       Andorra|      907|    52|      803|    52|       10|         0|            0|              5.73|                88.53|                  6.48|                884|           23|              2.6|              Europe|\n",
      "|        Angola|      950|    41|      242|   667|       18|         1|            0|              4.32|                25.47|                 16.94|                749|          201|            26.84|              Africa|\n",
      "+--------------+---------+------+---------+------+---------+----------+-------------+------------------+---------------------+----------------------+-------------------+-------------+-----------------+--------------------+\n",
      "only showing top 5 rows\n",
      "\n",
      "covid_19_clean_complete.csv\n",
      "[('Province/State', 'string'), ('Country/Region', 'string'), ('Lat', 'double'), ('Long', 'double'), ('Date', 'timestamp'), ('Confirmed', 'bigint'), ('Deaths', 'bigint'), ('Recovered', 'bigint'), ('Active', 'bigint'), ('WHO Region', 'string')]\n",
      "+--------------+--------------+--------+---------+-------------------+---------+------+---------+------+--------------------+\n",
      "|Province/State|Country/Region|     Lat|     Long|               Date|Confirmed|Deaths|Recovered|Active|          WHO Region|\n",
      "+--------------+--------------+--------+---------+-------------------+---------+------+---------+------+--------------------+\n",
      "|          null|   Afghanistan|33.93911|67.709953|2020-01-22 00:00:00|        0|     0|        0|     0|Eastern Mediterra...|\n",
      "|          null|       Albania| 41.1533|  20.1683|2020-01-22 00:00:00|        0|     0|        0|     0|              Europe|\n",
      "|          null|       Algeria| 28.0339|   1.6596|2020-01-22 00:00:00|        0|     0|        0|     0|              Africa|\n",
      "|          null|       Andorra| 42.5063|   1.5218|2020-01-22 00:00:00|        0|     0|        0|     0|              Europe|\n",
      "|          null|        Angola|-11.2027|  17.8739|2020-01-22 00:00:00|        0|     0|        0|     0|              Africa|\n",
      "+--------------+--------------+--------+---------+-------------------+---------+------+---------+------+--------------------+\n",
      "only showing top 5 rows\n",
      "\n",
      "day_wise.csv\n",
      "[('Date', 'timestamp'), ('Confirmed', 'bigint'), ('Deaths', 'bigint'), ('Recovered', 'bigint'), ('Active', 'bigint'), ('New cases', 'bigint'), ('New deaths', 'bigint'), ('New recovered', 'bigint'), ('Deaths / 100 Cases', 'double'), ('Recovered / 100 Cases', 'double'), ('Deaths / 100 Recovered', 'double'), ('No. of countries', 'bigint')]\n",
      "+-------------------+---------+------+---------+------+---------+----------+-------------+------------------+---------------------+----------------------+----------------+\n",
      "|               Date|Confirmed|Deaths|Recovered|Active|New cases|New deaths|New recovered|Deaths / 100 Cases|Recovered / 100 Cases|Deaths / 100 Recovered|No. of countries|\n",
      "+-------------------+---------+------+---------+------+---------+----------+-------------+------------------+---------------------+----------------------+----------------+\n",
      "|2020-01-22 00:00:00|      555|    17|       28|   510|        0|         0|            0|              3.06|                 5.05|                 60.71|               6|\n",
      "|2020-01-23 00:00:00|      654|    18|       30|   606|       99|         1|            2|              2.75|                 4.59|                  60.0|               8|\n",
      "|2020-01-24 00:00:00|      941|    26|       36|   879|      287|         8|            6|              2.76|                 3.83|                 72.22|               9|\n",
      "|2020-01-25 00:00:00|     1434|    42|       39|  1353|      493|        16|            3|              2.93|                 2.72|                107.69|              11|\n",
      "|2020-01-26 00:00:00|     2118|    56|       52|  2010|      684|        14|           13|              2.64|                 2.46|                107.69|              13|\n",
      "+-------------------+---------+------+---------+------+---------+----------+-------------+------------------+---------------------+----------------------+----------------+\n",
      "only showing top 5 rows\n",
      "\n",
      "full_grouped.csv\n",
      "[('Date', 'timestamp'), ('Country/Region', 'string'), ('Confirmed', 'bigint'), ('Deaths', 'bigint'), ('Recovered', 'bigint'), ('Active', 'bigint'), ('New cases', 'bigint'), ('New deaths', 'bigint'), ('New recovered', 'bigint'), ('WHO Region', 'string')]\n",
      "+-------------------+--------------+---------+------+---------+------+---------+----------+-------------+--------------------+\n",
      "|               Date|Country/Region|Confirmed|Deaths|Recovered|Active|New cases|New deaths|New recovered|          WHO Region|\n",
      "+-------------------+--------------+---------+------+---------+------+---------+----------+-------------+--------------------+\n",
      "|2020-01-22 00:00:00|   Afghanistan|        0|     0|        0|     0|        0|         0|            0|Eastern Mediterra...|\n",
      "|2020-01-22 00:00:00|       Albania|        0|     0|        0|     0|        0|         0|            0|              Europe|\n",
      "|2020-01-22 00:00:00|       Algeria|        0|     0|        0|     0|        0|         0|            0|              Africa|\n",
      "|2020-01-22 00:00:00|       Andorra|        0|     0|        0|     0|        0|         0|            0|              Europe|\n",
      "|2020-01-22 00:00:00|        Angola|        0|     0|        0|     0|        0|         0|            0|              Africa|\n",
      "+-------------------+--------------+---------+------+---------+------+---------+----------+-------------+--------------------+\n",
      "only showing top 5 rows\n",
      "\n",
      "usa_county_wise.csv\n",
      "[('UID', 'bigint'), ('iso2', 'string'), ('iso3', 'string'), ('code3', 'bigint'), ('FIPS', 'double'), ('Admin2', 'string'), ('Province_State', 'string'), ('Country_Region', 'string'), ('Lat', 'double'), ('Long_', 'double'), ('Combined_Key', 'string'), ('Date', 'timestamp'), ('Confirmed', 'bigint'), ('Deaths', 'bigint')]\n",
      "+--------+----+----+-----+-------+--------+--------------------+--------------+-------------------+------------------+--------------------+-------------------+---------+------+\n",
      "|     UID|iso2|iso3|code3|   FIPS|  Admin2|      Province_State|Country_Region|                Lat|             Long_|        Combined_Key|               Date|Confirmed|Deaths|\n",
      "+--------+----+----+-----+-------+--------+--------------------+--------------+-------------------+------------------+--------------------+-------------------+---------+------+\n",
      "|      16|  AS| ASM|   16|   60.0|    null|      American Samoa|            US|-14.270999999999999|          -170.132|  American Samoa, US|2020-01-22 00:00:00|        0|     0|\n",
      "|     316|  GU| GUM|  316|   66.0|    null|                Guam|            US|            13.4443|          144.7937|            Guam, US|2020-01-22 00:00:00|        0|     0|\n",
      "|     580|  MP| MNP|  580|   69.0|    null|Northern Mariana ...|            US|            15.0979|          145.6739|Northern Mariana ...|2020-01-22 00:00:00|        0|     0|\n",
      "|63072001|  PR| PRI|  630|72001.0|Adjuntas|         Puerto Rico|            US| 18.180117000000006|        -66.754367|Adjuntas, Puerto ...|2020-01-22 00:00:00|        0|     0|\n",
      "|63072003|  PR| PRI|  630|72003.0|  Aguada|         Puerto Rico|            US|          18.360255|-67.17513100000001|Aguada, Puerto Ri...|2020-01-22 00:00:00|        0|     0|\n",
      "+--------+----+----+-----+-------+--------+--------------------+--------------+-------------------+------------------+--------------------+-------------------+---------+------+\n",
      "only showing top 5 rows\n",
      "\n",
      "worldometer_data.csv\n",
      "[('Country/Region', 'string'), ('Continent', 'string'), ('Population', 'bigint'), ('TotalCases', 'bigint'), ('NewCases', 'bigint'), ('TotalDeaths', 'bigint'), ('NewDeaths', 'bigint'), ('TotalRecovered', 'bigint'), ('NewRecovered', 'bigint'), ('ActiveCases', 'bigint'), ('Serious,Critical', 'bigint'), ('Tot Cases/1M pop', 'bigint'), ('Deaths/1M pop', 'bigint'), ('TotalTests', 'bigint'), ('Tests/1M pop', 'bigint'), ('WHO Region', 'string')]\n",
      "+--------------+-------------+----------+----------+--------+-----------+---------+--------------+------------+-----------+----------------+----------------+-------------+----------+------------+--------------+\n",
      "|Country/Region|    Continent|Population|TotalCases|NewCases|TotalDeaths|NewDeaths|TotalRecovered|NewRecovered|ActiveCases|Serious,Critical|Tot Cases/1M pop|Deaths/1M pop|TotalTests|Tests/1M pop|    WHO Region|\n",
      "+--------------+-------------+----------+----------+--------+-----------+---------+--------------+------------+-----------+----------------+----------------+-------------+----------+------------+--------------+\n",
      "|           USA|North America| 331198130|   5032179|    null|     162804|     null|       2576668|        null|    2292707|           18296|           15194|          492|  63139605|      190640|      Americas|\n",
      "|        Brazil|South America| 212710692|   2917562|    null|      98644|     null|       2047660|        null|     771258|            8318|           13716|          464|  13206188|       62085|      Americas|\n",
      "|         India|         Asia|1381344997|   2025409|    null|      41638|     null|       1377384|        null|     606387|            8944|            1466|           30|  22149351|       16035|South-EastAsia|\n",
      "|        Russia|       Europe| 145940924|    871894|    null|      14606|     null|        676357|        null|     180931|            2300|            5974|          100|  29716907|      203623|        Europe|\n",
      "|  South Africa|       Africa|  59381566|    538184|    null|       9604|     null|        387316|        null|     141264|             539|            9063|          162|   3149807|       53044|        Africa|\n",
      "+--------------+-------------+----------+----------+--------+-----------+---------+--------------+------------+-----------+----------------+----------------+-------------+----------+------------+--------------+\n",
      "only showing top 5 rows\n",
      "\n"
     ]
    }
   ],
   "source": [
    "parquet_folder = \"corona-virus-parquet-pyspark\"\n",
    "# regex pattern for ignore commas, in double quotes\n",
    "regex = r',(?=(?:[^\"]|\"[^\"]*\")*$)'\n",
    "# Iterate files downloaded list\n",
    "for file in covid_file_list:\n",
    "    print(file)\n",
    "    # Read file downloaded as RDD\n",
    "    rdd = spark.sparkContext.textFile(f\"./{folder}/{file}\")\n",
    "    # Get header\n",
    "    header = rdd.first()\n",
    "    # Remove header from RDD\n",
    "    data_rdd = rdd.filter(lambda row: row != header)\n",
    "    # Format RDD to split rows and convert data types\n",
    "    format_rdd = data_rdd.map(lambda x: parse_row(x, regex))\n",
    "    # Convert RDD to DataFrame to next convert to parquet\n",
    "    df = format_rdd.toDF(list(map(lambda x:x.replace('\"', ''),re.split(regex, header))))\n",
    "    print(df.dtypes)\n",
    "    df.show(5)\n",
    "    parquet_path = f\"{parquet_folder}/{file.split('.')[0]}/\"\n",
    "    # Removing if path exists\n",
    "    if os.path.exists(parquet_path):\n",
    "        shutil.rmtree(parquet_path)\n",
    "    # Saving as parquet\n",
    "    df.write.parquet(parquet_path)"
   ]
  },
  {
   "cell_type": "code",
   "execution_count": 8,
   "metadata": {},
   "outputs": [],
   "source": [
    "# Stoping SparkSession\n",
    "spark.stop()"
   ]
  }
 ],
 "metadata": {
  "kernelspec": {
   "display_name": "base",
   "language": "python",
   "name": "python3"
  },
  "language_info": {
   "codemirror_mode": {
    "name": "ipython",
    "version": 3
   },
   "file_extension": ".py",
   "mimetype": "text/x-python",
   "name": "python",
   "nbconvert_exporter": "python",
   "pygments_lexer": "ipython3",
   "version": "3.10.9"
  },
  "orig_nbformat": 4,
  "vscode": {
   "interpreter": {
    "hash": "d4d1e4263499bec80672ea0156c357c1ee493ec2b1c70f0acce89fc37c4a6abe"
   }
  }
 },
 "nbformat": 4,
 "nbformat_minor": 2
}
